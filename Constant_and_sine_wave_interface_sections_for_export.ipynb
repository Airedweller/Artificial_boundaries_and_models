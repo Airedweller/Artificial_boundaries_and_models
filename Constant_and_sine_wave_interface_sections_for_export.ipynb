{
 "cells": [
  {
   "cell_type": "markdown",
   "metadata": {},
   "source": [
    "# Constant and Sine Wave Interfaces\n",
    "# Sections For Export\n",
    "\n",
    "Chris Field, January 2022\n",
    "\n",
    "*Create simple sections and export as png files (velocity models).*\n",
    "Approach:\n",
    "* Create a list or linear array, the length of the desired section with the values the integer depths of the horizon\n",
    "* Create a blank NumPy array the desired length and depth of the section\n",
    "* Use the list to insert velocity values at the specified depth\n",
    "* Vertical running sum\n",
    "* Add a constant value to all cells\n",
    "* Plot in matplotlib"
   ]
  },
  {
   "cell_type": "code",
   "execution_count": 1,
   "metadata": {},
   "outputs": [],
   "source": [
    "import numpy as np\n",
    "import math\n",
    "import random\n",
    "\n",
    "from skimage.io import imread, imsave\n",
    "from datetime import datetime\n",
    "#\n",
    "# Plotting requirements\n",
    "import matplotlib.pyplot as plt"
   ]
  },
  {
   "cell_type": "markdown",
   "metadata": {},
   "source": [
    "Notes:\n",
    "The SciPy stats probability density function for Pareto is defined for x >= 1. We need to move it back by 1 so it's >=0"
   ]
  },
  {
   "cell_type": "markdown",
   "metadata": {},
   "source": [
    "## Define functions"
   ]
  },
  {
   "cell_type": "code",
   "execution_count": 2,
   "metadata": {},
   "outputs": [],
   "source": [
    "def flat_interface(L=5000, D_int=3000):\n",
    "    \"\"\"\n",
    "    Create a flat interface depth: array of contant values\n",
    "    \n",
    "    Returns:\n",
    "    samples -- an array indexed by the spatial step that tells us if we have positive, negative or no throw \n",
    "            on this spatial grid cell. It is created from rounding the values of throw to the nearest integer\n",
    "            and then creating that many grid cells with the sense of throw (negative or positive)\n",
    "    \n",
    "    Variables:\n",
    "    L -- cross-section length, number of random numbers, int\n",
    "    D_int -- starting depth (adds to the first throw value), int\n",
    "\n",
    "    \"\"\"\n",
    "\n",
    "    # Samples is the spatial grid, indexed by i later.\n",
    "    samples = [D_int] * L\n",
    "\n",
    "    return samples"
   ]
  },
  {
   "cell_type": "code",
   "execution_count": 3,
   "metadata": {},
   "outputs": [],
   "source": [
    "def sine_interface(L=5000, D_int=3000, wav_len=100, amp=100):\n",
    "    \"\"\"\n",
    "    Create a sine wave, note the amplitudes are rounded to the nearest interger\n",
    "    \n",
    "    Variables:\n",
    "    L -- cross-section length, number of random numbers, int\n",
    "    D_int -- starting depth (adds to the first throw value), int\n",
    "    wav_len -- wave length of sine wave, int\n",
    "    amp -- amplitude of sine wave\n",
    "    \n",
    "    Returns:\n",
    "    samples -- an array indexed by the spatial step that tells us if we have positive, negative or no throw \n",
    "            on this spatial grid cell. It is created from rounding the values of throw to the nearest integer\n",
    "            and then creating that many grid cells with the sense of throw (negative or positive)\n",
    "    \n",
    "\n",
    "    \"\"\"\n",
    "\n",
    "    # Samples is the spatial grid, indexed by i later.\n",
    "    const = [D_int] * L\n",
    "\n",
    "    x = np.arange(L)\n",
    "    y = np.rint( (amp * np.sin(2 * np.pi * x / wav_len) ))\n",
    "    y = y.astype(np.int)\n",
    "         \n",
    "    samples = const + y\n",
    "                \n",
    "    return samples"
   ]
  },
  {
   "cell_type": "code",
   "execution_count": 4,
   "metadata": {},
   "outputs": [],
   "source": [
    "def numpy_grid(L=5000, D=5000):\n",
    "    \"\"\"\n",
    "    Create a blank (zero value) of dimensions L x D\n",
    "    \n",
    "    Variables:\n",
    "    L -- cross-section length, int\n",
    "    D -- maximum depth of array, int\n",
    "    \n",
    "    Returns:\n",
    "    grid -- ndarray of zero values of speicifed dimensions  \n",
    "\n",
    "    \"\"\"\n",
    "    size=(L,D)\n",
    "    grid = np.zeros(size, dtype='uint16', order='C')\n",
    "\n",
    "    return grid"
   ]
  },
  {
   "cell_type": "code",
   "execution_count": 5,
   "metadata": {},
   "outputs": [],
   "source": [
    "def interface_grid(grid, samples, vel=4000):\n",
    "    \"\"\"\n",
    "    Insert an interface into the grid with the velocity values at the samples depths\n",
    "    \n",
    "    Variables:\n",
    "    grid -- ndarray, int\n",
    "    samples -- depths to insert velocity values, array or list\n",
    "    vel -- velocity value to insert, float or int\n",
    "    \n",
    "    Returns:\n",
    "    int_grid -- ndarray with velocity values at speicifed depths  \n",
    "\n",
    "    \"\"\"    \n",
    "    x = np.arange(len(samples))\n",
    "    y = samples\n",
    "    \n",
    "    for _x, _y in zip(x,y):\n",
    "        grid[_y][_x] = vel\n",
    "        pass\n",
    "\n",
    "    return grid    "
   ]
  },
  {
   "cell_type": "code",
   "execution_count": 6,
   "metadata": {},
   "outputs": [],
   "source": [
    "def sum_and_shift(int_grid, shift = 2000, conv=True):\n",
    "    \"\"\"\n",
    "    Vertical running sum of the grid and then add constant value\n",
    "    \n",
    "    Variables:\n",
    "    int_grid -- input ndarray, int\n",
    "    shift -- value to be added to all grid points\n",
    "    conv -- convert to uint16, boolean\n",
    "\n",
    "    \n",
    "    Returns:\n",
    "    sum_grid -- summed and shifted grid  \n",
    "\n",
    "    \"\"\"    \n",
    "    sum_grid = np.cumsum(int_grid,axis=0)\n",
    "    sum_grid += shift\n",
    "    \n",
    "    if conv:\n",
    "        sum_grid = sum_grid.astype(np.uint16)\n",
    "        \n",
    "    return sum_grid    "
   ]
  },
  {
   "cell_type": "code",
   "execution_count": null,
   "metadata": {},
   "outputs": [],
   "source": []
  },
  {
   "cell_type": "markdown",
   "metadata": {},
   "source": [
    "# Constant Interface"
   ]
  },
  {
   "cell_type": "code",
   "execution_count": 7,
   "metadata": {},
   "outputs": [],
   "source": [
    "samples = flat_interface()\n",
    "grid = numpy_grid()"
   ]
  },
  {
   "cell_type": "code",
   "execution_count": 8,
   "metadata": {},
   "outputs": [
    {
     "name": "stdout",
     "output_type": "stream",
     "text": [
      "1.51 ms ± 23.5 µs per loop (mean ± std. dev. of 7 runs, 1000 loops each)\n"
     ]
    }
   ],
   "source": [
    "%timeit interface_grid(grid, samples)"
   ]
  },
  {
   "cell_type": "code",
   "execution_count": 9,
   "metadata": {},
   "outputs": [],
   "source": [
    "int_grid = interface_grid(grid, samples, vel=4000)\n",
    "final_grid = sum_and_shift(int_grid, shift = 2000, conv=True)"
   ]
  },
  {
   "cell_type": "code",
   "execution_count": 10,
   "metadata": {},
   "outputs": [
    {
     "data": {
      "image/png": "[encoded data removed]",
      "text/plain": [
       "<Figure size 1080x1080 with 2 Axes>"
      ]
     },
     "metadata": {
      "needs_background": "light"
     },
     "output_type": "display_data"
    }
   ],
   "source": [
    "plt.figure(figsize=(15,15))\n",
    "c1 = plt.imshow(final_grid, interpolation='none', origin=\"upper\", aspect='auto' )\n",
    "\n",
    "plt.colorbar(c1, shrink=0.67)\n",
    "plt.show()"
   ]
  },
  {
   "cell_type": "code",
   "execution_count": 11,
   "metadata": {},
   "outputs": [
    {
     "data": {
      "text/plain": [
       "True"
      ]
     },
     "execution_count": 11,
     "metadata": {},
     "output_type": "execute_result"
    }
   ],
   "source": [
    "# Export and reload confirming the data is the same:\n",
    "date = str(datetime.today().strftime('%Y-%m-%d'))\n",
    "imsave(date+'_constant.png', final_grid, check_contrast=False)\n",
    "y = imread(date+'_constant.png')\n",
    "(final_grid == y).all()  # True"
   ]
  },
  {
   "cell_type": "markdown",
   "metadata": {},
   "source": [
    "# Sine Wave"
   ]
  },
  {
   "cell_type": "code",
   "execution_count": 12,
   "metadata": {},
   "outputs": [],
   "source": [
    "samples = sine_interface(L=5000, D_int=3000, wav_len=100, amp=100)\n",
    "grid = numpy_grid()"
   ]
  },
  {
   "cell_type": "code",
   "execution_count": 15,
   "metadata": {},
   "outputs": [],
   "source": [
    "int_grid = interface_grid(grid, samples, vel=4000)"
   ]
  },
  {
   "cell_type": "code",
   "execution_count": 16,
   "metadata": {},
   "outputs": [],
   "source": [
    "final_grid = sum_and_shift(int_grid, shift = 2000, conv=True)"
   ]
  },
  {
   "cell_type": "code",
   "execution_count": 17,
   "metadata": {},
   "outputs": [
    {
     "data": {
      "image/png": "[encoded data removed]",
      "text/plain": [
       "<Figure size 1080x1080 with 2 Axes>"
      ]
     },
     "metadata": {
      "needs_background": "light"
     },
     "output_type": "display_data"
    }
   ],
   "source": [
    "plt.figure(figsize=(15,15))\n",
    "c1 = plt.imshow(final_grid, interpolation='none', origin=\"upper\", aspect='auto' )\n",
    "\n",
    "plt.colorbar(c1, shrink=0.67)\n",
    "plt.show()"
   ]
  },
  {
   "cell_type": "code",
   "execution_count": 18,
   "metadata": {},
   "outputs": [
    {
     "data": {
      "text/plain": [
       "False"
      ]
     },
     "execution_count": 18,
     "metadata": {},
     "output_type": "execute_result"
    }
   ],
   "source": [
    "# Export and reload confirming the data is the same:\n",
    "date = str(datetime.today().strftime('%Y-%m-%d'))\n",
    "imsave(date+'_sine.png', final_grid, check_contrast=False)\n",
    "y = imread(date+'_constant.png')\n",
    "(final_grid == y).all()  # True"
   ]
  }
 ],
 "metadata": {
  "kernelspec": {
   "display_name": "Python 3",
   "language": "python",
   "name": "python3"
  },
  "language_info": {
   "codemirror_mode": {
    "name": "ipython",
    "version": 3
   },
   "file_extension": ".py",
   "mimetype": "text/x-python",
   "name": "python",
   "nbconvert_exporter": "python",
   "pygments_lexer": "ipython3",
   "version": "3.8.8"
  }
 },
 "nbformat": 4,
 "nbformat_minor": 4
}
