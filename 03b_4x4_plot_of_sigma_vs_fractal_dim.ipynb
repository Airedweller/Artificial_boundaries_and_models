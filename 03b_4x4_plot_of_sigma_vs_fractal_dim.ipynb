{
 "cells": [
  {
   "cell_type": "markdown",
   "metadata": {},
   "source": [
    "# 4x4 grid of graphs comparing depth errors and fractal roughness measures\n",
    "\n",
    "**Chris Field April 2022**"
   ]
  },
  {
   "cell_type": "code",
   "execution_count": 1,
   "metadata": {},
   "outputs": [],
   "source": [
    "import os  # operating system\n",
    "import sys # to add src directory for my modules\n",
    "#\n",
    "import numpy as np\n",
    "import math\n",
    "import random\n",
    "#\n",
    "import pandas as pd\n",
    "from scipy import stats\n",
    "#\n",
    "# Plotting requirements\n",
    "import matplotlib.pyplot as plt\n",
    "import matplotlib.patches as mpatches\n",
    "from matplotlib import colors\n",
    "import matplotlib.font_manager # different fonts\n",
    "from matplotlib import rcParams # runtime config to set fonts"
   ]
  },
  {
   "cell_type": "code",
   "execution_count": 2,
   "metadata": {},
   "outputs": [],
   "source": [
    "# Using rcParams set the global fonts for Matplotlib\n",
    "# Global parameters for Matplotlib: set font etc.\n",
    "rcParams['font.family'] = 'serif'\n",
    "rcParams['font.sans-serif'] = ['Gill Sans MT']\n",
    "rcParams['font.serif'] = ['Garamond']\n",
    "rcParams['font.size'] = '16'\n",
    "#"
   ]
  },
  {
   "cell_type": "markdown",
   "metadata": {},
   "source": [
    "## Define Functions"
   ]
  },
  {
   "cell_type": "code",
   "execution_count": 3,
   "metadata": {},
   "outputs": [],
   "source": [
    "# Shared variables:\n",
    "colours = ['#1f77b4', '#ED1D24', '#1CEDAB', '#AC5678', '#896E2E']"
   ]
  },
  {
   "cell_type": "code",
   "execution_count": 4,
   "metadata": {},
   "outputs": [],
   "source": [
    "def gamma_plot(gamma, start=1, title='Madogram', step = 1, file_out=False, location='./Plot/'):\n",
    "    \"\"\"\n",
    "    Plot a list or array, e.g. variogram\n",
    "    \n",
    "    gamma -- intended to be the madogram, a list\n",
    "    start -- start from lag start, int\n",
    "    \"\"\"\n",
    "    gamm_trun = gamma[start:]\n",
    "    x_init = np.arange(len(gamm_trun)) \n",
    "    x = x_init * step\n",
    "    # plot\n",
    "    fig = plt.figure(figsize=(14,7)) \n",
    "    ax = fig.add_subplot(1,1,1)\n",
    "\n",
    "    ax.set_title(title)\n",
    "    \n",
    "    ax.set_xlabel('Separation (m)')\n",
    "    ax.set_ylabel('madogram')\n",
    "    \n",
    "    ax.plot(x, gamm_trun, alpha =0.6, color='#1f77b4', solid_capstyle=\"butt\", lw=3)\n",
    "\n",
    "        # cosmetics\n",
    "    ## Remove axis lines.\n",
    "    ax.spines['top'].set_visible(False)\n",
    "    ax.spines['right'].set_visible(False)\n",
    "    ax.spines['bottom'].set_visible(False)\n",
    "    ax.spines['left'].set_visible(False)\n",
    "\n",
    "\n",
    "    plt.tight_layout()\n",
    "    \n",
    "    plt.show()\n",
    "    \n",
    "    if file_out:\n",
    "        fig_name=location + title.replace(\" \", \"_\") + '_madogram'  +'.png'\n",
    "        fig.savefig(fig_name,facecolor = 'w',bbox_inches=\"tight\",quality=600)"
   ]
  },
  {
   "cell_type": "markdown",
   "metadata": {},
   "source": [
    "# Input Data"
   ]
  },
  {
   "cell_type": "code",
   "execution_count": 5,
   "metadata": {},
   "outputs": [],
   "source": [
    "location_out='./Output/Horizon_analysis/'\n",
    "\n",
    "location_in = './Input_3/'\n",
    "\n",
    "location_out_plots='./Pictures/Horizon_analysis_plots/'\n",
    "\n",
    "# If necessary make output folders\n",
    "    \n",
    "if not os.path.exists(location_out_plots) :\n",
    "    os.makedirs(location_out_plots)"
   ]
  },
  {
   "cell_type": "markdown",
   "metadata": {},
   "source": [
    "# Load in and prepare data\n",
    "* Note currently this data is stitched together by hand, should automate its creation."
   ]
  },
  {
   "cell_type": "code",
   "execution_count": 6,
   "metadata": {},
   "outputs": [],
   "source": [
    "# Read csv nDI format TBZ (event) ascii\n",
    "df_input=pd.read_excel(location_in + 'ZOMBIE_35deg_std_and_horizon_metrics_handmade.xlsx')\n",
    "# Remove quote marks from column names\n",
    "df_input.columns=df_input.columns.str.replace('\\\"','')\n",
    "# Some column names have trailing white space, remove this\n",
    "df_input.columns=df_input.columns.str.replace('\\s+','_')"
   ]
  },
  {
   "cell_type": "code",
   "execution_count": 7,
   "metadata": {},
   "outputs": [
    {
     "data": {
      "text/html": [
       "<div>\n",
       "<style scoped>\n",
       "    .dataframe tbody tr th:only-of-type {\n",
       "        vertical-align: middle;\n",
       "    }\n",
       "\n",
       "    .dataframe tbody tr th {\n",
       "        vertical-align: top;\n",
       "    }\n",
       "\n",
       "    .dataframe thead th {\n",
       "        text-align: right;\n",
       "    }\n",
       "</style>\n",
       "<table border=\"1\" class=\"dataframe\">\n",
       "  <thead>\n",
       "    <tr style=\"text-align: right;\">\n",
       "      <th></th>\n",
       "      <th>Name</th>\n",
       "      <th>Seis_-_Actual_std</th>\n",
       "      <th>Slope_SV</th>\n",
       "      <th>Int_SV</th>\n",
       "      <th>D_SV</th>\n",
       "      <th>Slope_SV_seis</th>\n",
       "      <th>Int_SV_seis</th>\n",
       "      <th>D_SV_seis</th>\n",
       "      <th>Slope_M</th>\n",
       "      <th>Int_M</th>\n",
       "      <th>D_M</th>\n",
       "      <th>Slope_M_seis</th>\n",
       "      <th>Int_M_seis</th>\n",
       "      <th>D_M_seis</th>\n",
       "    </tr>\n",
       "  </thead>\n",
       "  <tbody>\n",
       "    <tr>\n",
       "      <th>0</th>\n",
       "      <td>Spectral slope 1.92</td>\n",
       "      <td>5.335204</td>\n",
       "      <td>0.81</td>\n",
       "      <td>0.79</td>\n",
       "      <td>1.59</td>\n",
       "      <td>1.07</td>\n",
       "      <td>0.19</td>\n",
       "      <td>1.46</td>\n",
       "      <td>0.41</td>\n",
       "      <td>0.14</td>\n",
       "      <td>1.59</td>\n",
       "      <td>0.95</td>\n",
       "      <td>-0.61</td>\n",
       "      <td>1.05</td>\n",
       "    </tr>\n",
       "    <tr>\n",
       "      <th>1</th>\n",
       "      <td>Spectral slope 1.89</td>\n",
       "      <td>5.397981</td>\n",
       "      <td>0.83</td>\n",
       "      <td>0.77</td>\n",
       "      <td>1.59</td>\n",
       "      <td>1.12</td>\n",
       "      <td>0.14</td>\n",
       "      <td>1.44</td>\n",
       "      <td>0.42</td>\n",
       "      <td>0.13</td>\n",
       "      <td>1.58</td>\n",
       "      <td>0.97</td>\n",
       "      <td>-0.64</td>\n",
       "      <td>1.03</td>\n",
       "    </tr>\n",
       "    <tr>\n",
       "      <th>2</th>\n",
       "      <td>Pareto fault b 2.0</td>\n",
       "      <td>2.101643</td>\n",
       "      <td>1.56</td>\n",
       "      <td>-0.50</td>\n",
       "      <td>1.22</td>\n",
       "      <td>1.48</td>\n",
       "      <td>-0.67</td>\n",
       "      <td>1.26</td>\n",
       "      <td>0.79</td>\n",
       "      <td>-0.49</td>\n",
       "      <td>1.21</td>\n",
       "      <td>0.99</td>\n",
       "      <td>-0.85</td>\n",
       "      <td>1.01</td>\n",
       "    </tr>\n",
       "    <tr>\n",
       "      <th>3</th>\n",
       "      <td>Pareto fault b 1.5</td>\n",
       "      <td>2.283853</td>\n",
       "      <td>1.73</td>\n",
       "      <td>-0.40</td>\n",
       "      <td>1.13</td>\n",
       "      <td>1.73</td>\n",
       "      <td>-0.55</td>\n",
       "      <td>1.14</td>\n",
       "      <td>0.85</td>\n",
       "      <td>-0.40</td>\n",
       "      <td>1.15</td>\n",
       "      <td>0.98</td>\n",
       "      <td>-0.65</td>\n",
       "      <td>1.02</td>\n",
       "    </tr>\n",
       "    <tr>\n",
       "      <th>4</th>\n",
       "      <td>Sin</td>\n",
       "      <td>0.590122</td>\n",
       "      <td>1.83</td>\n",
       "      <td>-0.88</td>\n",
       "      <td>1.09</td>\n",
       "      <td>1.78</td>\n",
       "      <td>-0.84</td>\n",
       "      <td>1.11</td>\n",
       "      <td>1.00</td>\n",
       "      <td>-0.70</td>\n",
       "      <td>1.00</td>\n",
       "      <td>0.98</td>\n",
       "      <td>-0.68</td>\n",
       "      <td>1.02</td>\n",
       "    </tr>\n",
       "  </tbody>\n",
       "</table>\n",
       "</div>"
      ],
      "text/plain": [
       "                  Name  Seis_-_Actual_std  Slope_SV  Int_SV  D_SV  \\\n",
       "0  Spectral slope 1.92           5.335204      0.81    0.79  1.59   \n",
       "1  Spectral slope 1.89           5.397981      0.83    0.77  1.59   \n",
       "2   Pareto fault b 2.0           2.101643      1.56   -0.50  1.22   \n",
       "3   Pareto fault b 1.5           2.283853      1.73   -0.40  1.13   \n",
       "4                  Sin           0.590122      1.83   -0.88  1.09   \n",
       "\n",
       "   Slope_SV_seis  Int_SV_seis  D_SV_seis  Slope_M  Int_M   D_M  Slope_M_seis  \\\n",
       "0           1.07         0.19       1.46     0.41   0.14  1.59          0.95   \n",
       "1           1.12         0.14       1.44     0.42   0.13  1.58          0.97   \n",
       "2           1.48        -0.67       1.26     0.79  -0.49  1.21          0.99   \n",
       "3           1.73        -0.55       1.14     0.85  -0.40  1.15          0.98   \n",
       "4           1.78        -0.84       1.11     1.00  -0.70  1.00          0.98   \n",
       "\n",
       "   Int_M_seis  D_M_seis  \n",
       "0       -0.61      1.05  \n",
       "1       -0.64      1.03  \n",
       "2       -0.85      1.01  \n",
       "3       -0.65      1.02  \n",
       "4       -0.68      1.02  "
      ]
     },
     "execution_count": 7,
     "metadata": {},
     "output_type": "execute_result"
    }
   ],
   "source": [
    "# sort in reverse order of fractal dimention\n",
    "df_input.sort_values(by='D_SV', ascending=False)"
   ]
  },
  {
   "cell_type": "code",
   "execution_count": 8,
   "metadata": {},
   "outputs": [
    {
     "data": {
      "text/html": [
       "<div>\n",
       "<style scoped>\n",
       "    .dataframe tbody tr th:only-of-type {\n",
       "        vertical-align: middle;\n",
       "    }\n",
       "\n",
       "    .dataframe tbody tr th {\n",
       "        vertical-align: top;\n",
       "    }\n",
       "\n",
       "    .dataframe thead th {\n",
       "        text-align: right;\n",
       "    }\n",
       "</style>\n",
       "<table border=\"1\" class=\"dataframe\">\n",
       "  <thead>\n",
       "    <tr style=\"text-align: right;\">\n",
       "      <th></th>\n",
       "      <th>Name</th>\n",
       "      <th>Seis_-_Actual_std</th>\n",
       "      <th>Slope_SV</th>\n",
       "      <th>Int_SV</th>\n",
       "      <th>D_SV</th>\n",
       "      <th>Slope_SV_seis</th>\n",
       "      <th>Int_SV_seis</th>\n",
       "      <th>D_SV_seis</th>\n",
       "      <th>Slope_M</th>\n",
       "      <th>Int_M</th>\n",
       "      <th>D_M</th>\n",
       "      <th>Slope_M_seis</th>\n",
       "      <th>Int_M_seis</th>\n",
       "      <th>D_M_seis</th>\n",
       "    </tr>\n",
       "  </thead>\n",
       "  <tbody>\n",
       "    <tr>\n",
       "      <th>0</th>\n",
       "      <td>Spectral slope 1.92</td>\n",
       "      <td>5.335204</td>\n",
       "      <td>0.81</td>\n",
       "      <td>0.79</td>\n",
       "      <td>1.59</td>\n",
       "      <td>1.07</td>\n",
       "      <td>0.19</td>\n",
       "      <td>1.46</td>\n",
       "      <td>0.41</td>\n",
       "      <td>0.14</td>\n",
       "      <td>1.59</td>\n",
       "      <td>0.95</td>\n",
       "      <td>-0.61</td>\n",
       "      <td>1.05</td>\n",
       "    </tr>\n",
       "    <tr>\n",
       "      <th>1</th>\n",
       "      <td>Spectral slope 1.89</td>\n",
       "      <td>5.397981</td>\n",
       "      <td>0.83</td>\n",
       "      <td>0.77</td>\n",
       "      <td>1.59</td>\n",
       "      <td>1.12</td>\n",
       "      <td>0.14</td>\n",
       "      <td>1.44</td>\n",
       "      <td>0.42</td>\n",
       "      <td>0.13</td>\n",
       "      <td>1.58</td>\n",
       "      <td>0.97</td>\n",
       "      <td>-0.64</td>\n",
       "      <td>1.03</td>\n",
       "    </tr>\n",
       "    <tr>\n",
       "      <th>2</th>\n",
       "      <td>Pareto fault b 2.0</td>\n",
       "      <td>2.101643</td>\n",
       "      <td>1.56</td>\n",
       "      <td>-0.50</td>\n",
       "      <td>1.22</td>\n",
       "      <td>1.48</td>\n",
       "      <td>-0.67</td>\n",
       "      <td>1.26</td>\n",
       "      <td>0.79</td>\n",
       "      <td>-0.49</td>\n",
       "      <td>1.21</td>\n",
       "      <td>0.99</td>\n",
       "      <td>-0.85</td>\n",
       "      <td>1.01</td>\n",
       "    </tr>\n",
       "    <tr>\n",
       "      <th>3</th>\n",
       "      <td>Pareto fault b 1.5</td>\n",
       "      <td>2.283853</td>\n",
       "      <td>1.73</td>\n",
       "      <td>-0.40</td>\n",
       "      <td>1.13</td>\n",
       "      <td>1.73</td>\n",
       "      <td>-0.55</td>\n",
       "      <td>1.14</td>\n",
       "      <td>0.85</td>\n",
       "      <td>-0.40</td>\n",
       "      <td>1.15</td>\n",
       "      <td>0.98</td>\n",
       "      <td>-0.65</td>\n",
       "      <td>1.02</td>\n",
       "    </tr>\n",
       "    <tr>\n",
       "      <th>4</th>\n",
       "      <td>Sin</td>\n",
       "      <td>0.590122</td>\n",
       "      <td>1.83</td>\n",
       "      <td>-0.88</td>\n",
       "      <td>1.09</td>\n",
       "      <td>1.78</td>\n",
       "      <td>-0.84</td>\n",
       "      <td>1.11</td>\n",
       "      <td>1.00</td>\n",
       "      <td>-0.70</td>\n",
       "      <td>1.00</td>\n",
       "      <td>0.98</td>\n",
       "      <td>-0.68</td>\n",
       "      <td>1.02</td>\n",
       "    </tr>\n",
       "  </tbody>\n",
       "</table>\n",
       "</div>"
      ],
      "text/plain": [
       "                  Name  Seis_-_Actual_std  Slope_SV  Int_SV  D_SV  \\\n",
       "0  Spectral slope 1.92           5.335204      0.81    0.79  1.59   \n",
       "1  Spectral slope 1.89           5.397981      0.83    0.77  1.59   \n",
       "2   Pareto fault b 2.0           2.101643      1.56   -0.50  1.22   \n",
       "3   Pareto fault b 1.5           2.283853      1.73   -0.40  1.13   \n",
       "4                  Sin           0.590122      1.83   -0.88  1.09   \n",
       "\n",
       "   Slope_SV_seis  Int_SV_seis  D_SV_seis  Slope_M  Int_M   D_M  Slope_M_seis  \\\n",
       "0           1.07         0.19       1.46     0.41   0.14  1.59          0.95   \n",
       "1           1.12         0.14       1.44     0.42   0.13  1.58          0.97   \n",
       "2           1.48        -0.67       1.26     0.79  -0.49  1.21          0.99   \n",
       "3           1.73        -0.55       1.14     0.85  -0.40  1.15          0.98   \n",
       "4           1.78        -0.84       1.11     1.00  -0.70  1.00          0.98   \n",
       "\n",
       "   Int_M_seis  D_M_seis  \n",
       "0       -0.61      1.05  \n",
       "1       -0.64      1.03  \n",
       "2       -0.85      1.01  \n",
       "3       -0.65      1.02  \n",
       "4       -0.68      1.02  "
      ]
     },
     "execution_count": 8,
     "metadata": {},
     "output_type": "execute_result"
    }
   ],
   "source": [
    "df_input.head()"
   ]
  },
  {
   "cell_type": "code",
   "execution_count": 9,
   "metadata": {},
   "outputs": [
    {
     "data": {
      "text/plain": [
       "['Spectral slope 1.92',\n",
       " 'Spectral slope 1.89',\n",
       " 'Pareto fault b 2.0',\n",
       " 'Pareto fault b 1.5',\n",
       " 'Sin']"
      ]
     },
     "execution_count": 9,
     "metadata": {},
     "output_type": "execute_result"
    }
   ],
   "source": [
    "df_input['Name'].to_list()"
   ]
  },
  {
   "cell_type": "code",
   "execution_count": 10,
   "metadata": {},
   "outputs": [],
   "source": [
    "names  = [r'Spectral slope $\\mathregular{\\beta = 1.92}$',\n",
    " r'Spectral slope $\\mathregular{\\beta = 1.89}$',\n",
    " r'Pareto fault $\\mathregular{c = 2.0}$',\n",
    " r'Pareto fault $\\mathregular{c = 1.5}$',\n",
    " 'Sin']"
   ]
  },
  {
   "cell_type": "code",
   "execution_count": 11,
   "metadata": {},
   "outputs": [
    {
     "data": {
      "text/plain": [
       "['Spectral slope $\\\\mathregular{\\\\beta = 1.92}$',\n",
       " 'Spectral slope $\\\\mathregular{\\\\beta = 1.89}$',\n",
       " 'Pareto fault $\\\\mathregular{c = 2.0}$',\n",
       " 'Pareto fault $\\\\mathregular{c = 1.5}$',\n",
       " 'Sin']"
      ]
     },
     "execution_count": 11,
     "metadata": {},
     "output_type": "execute_result"
    }
   ],
   "source": [
    "names"
   ]
  },
  {
   "cell_type": "code",
   "execution_count": 12,
   "metadata": {},
   "outputs": [
    {
     "data": {
      "image/png": "[encoded data removed]",
      "text/plain": [
       "<Figure size 1080x1152 with 4 Axes>"
      ]
     },
     "metadata": {
      "needs_background": "light"
     },
     "output_type": "display_data"
    }
   ],
   "source": [
    "s =64\n",
    "alpha = 0.8\n",
    "\n",
    "fig, ax = plt.subplots(2, 2, sharex='col', sharey='row', figsize=(15,16))  # 2x2 grid\n",
    "\n",
    "ax[0, 0].scatter(df_input['Int_SV'], df_input['Seis_-_Actual_std'], c=colours, s=s, alpha=alpha)\n",
    "ax[1, 0].scatter(df_input['Int_SV_seis'], df_input['Seis_-_Actual_std'], c=colours, s=s, alpha=alpha)\n",
    "ax[0, 1].scatter(df_input['D_SV'], df_input['Seis_-_Actual_std'], c=colours, s=s, alpha=alpha)\n",
    "ax[1, 1].scatter(df_input['D_SV_seis'], df_input['Seis_-_Actual_std'], c=colours, s=s, alpha=alpha)\n",
    "\n",
    "\n",
    "# Set up legend:\n",
    "patches = []\n",
    "for i in range(5):\n",
    "    patches.append( mpatches.Patch(color=colours[i], alpha=0.8, label=names[i])) \n",
    "               \n",
    "# ax.legend(handles=patches, bbox_to_anchor=(1.05, 1), loc=2, borderaxespad=0. , frameon=False)\n",
    "fig.legend(handles=patches,  loc='upper right', borderaxespad=0. , frameon=False)\n",
    "\n",
    "# x axis labels\n",
    "ax[0, 0].set_xlabel('Semivariogram Intercept')\n",
    "ax[1, 0].set_xlabel('Seismic Semivariogram Intercept')\n",
    "ax[0, 1].set_xlabel(\"$\\mathregular{D_{SV}}$\")\n",
    "ax[1, 1].set_xlabel(\"Seismic $\\mathregular{D_{SV}}$\")\n",
    "\n",
    "# y axis labels\n",
    "ax[0, 0].set_ylabel('Depth Error Standard Deviation (m)')\n",
    "ax[1, 0].set_ylabel('Depth Error Standard Deviation (m)')\n",
    "\n",
    "\n",
    "\n",
    "# cosmetics\n",
    "## Remove axis lines.\n",
    "for i in range(2):\n",
    "    for j in range(2):\n",
    "        ax[i, j].spines['top'].set_visible(False)\n",
    "        ax[i, j].spines['right'].set_visible(False)\n",
    "#         ax[i, j].spines['bottom'].set_visible(False)\n",
    "#         ax[i, j].spines['left'].set_visible(False)\n",
    "        \n",
    "for i in range(2):\n",
    "    for j in range(2):\n",
    "        ax[i, j].spines['top'].set_color('lightgrey')\n",
    "        ax[i, j].spines['right'].set_color('lightgrey')\n",
    "        ax[i, j].spines['bottom'].set_color('lightgrey')\n",
    "        ax[i, j].spines['left'].set_color('lightgrey')\n",
    "        \n",
    "\n",
    "\n",
    "# plt.tight_layout()\n",
    "fig.suptitle('Depth Error Standard Deviation for Kirchhoff Migration 35 degree stack:\\nRelationship with Semivariogram Derived Fractal Roughness Attributes')\n",
    "\n",
    "plt.show()\n",
    "\n",
    "fig_name=location_out_plots + '_Depth_error_4x4_Kirchhoff_35deg'  +'.png'\n",
    "fig.savefig(fig_name,facecolor = 'w',bbox_inches=\"tight\", dpi=1000)"
   ]
  },
  {
   "cell_type": "markdown",
   "metadata": {},
   "source": [
    "Let's do the same thing for the madogram:"
   ]
  },
  {
   "cell_type": "code",
   "execution_count": 13,
   "metadata": {},
   "outputs": [
    {
     "data": {
      "image/png": "[encoded data removed]",
      "text/plain": [
       "<Figure size 1080x1152 with 4 Axes>"
      ]
     },
     "metadata": {
      "needs_background": "light"
     },
     "output_type": "display_data"
    }
   ],
   "source": [
    "s =64\n",
    "alpha = 0.8\n",
    "\n",
    "fig, ax = plt.subplots(2, 2, sharex='col', sharey='row', figsize=(15,16))  # 2x2 grid\n",
    "\n",
    "ax[0, 0].scatter(df_input['Int_M'], df_input['Seis_-_Actual_std'], c=colours, s=s, alpha=alpha)\n",
    "ax[1, 0].scatter(df_input['Int_M_seis'], df_input['Seis_-_Actual_std'], c=colours, s=s, alpha=alpha)\n",
    "ax[0, 1].scatter(df_input['D_M'], df_input['Seis_-_Actual_std'], c=colours, s=s, alpha=alpha)\n",
    "ax[1, 1].scatter(df_input['D_M_seis'], df_input['Seis_-_Actual_std'], c=colours, s=s, alpha=alpha)\n",
    "\n",
    "\n",
    "# Set up legend:\n",
    "patches = []\n",
    "for i in range(5):\n",
    "    patches.append( mpatches.Patch(color=colours[i], alpha=0.8, label=names[i])) \n",
    "               \n",
    "fig.legend(handles=patches,  loc='upper right', borderaxespad=0. , frameon=False)\n",
    "\n",
    "# x axis labels\n",
    "ax[0, 0].set_xlabel('Madogram Intercept')\n",
    "ax[1, 0].set_xlabel('Seismic Madogram Intercept')\n",
    "ax[0, 1].set_xlabel(\"$\\mathregular{D_{M}}$\")\n",
    "ax[1, 1].set_xlabel(\"Seismic $\\mathregular{D_{M}}$\")\n",
    "\n",
    "# y axis labels\n",
    "ax[0, 0].set_ylabel('Depth Error Standard Deviation (m)')\n",
    "ax[1, 0].set_ylabel('Depth Error Standard Deviation (m)')\n",
    "\n",
    "# cosmetics\n",
    "## Remove axis lines.\n",
    "for i in range(2):\n",
    "    for j in range(2):\n",
    "        ax[i, j].spines['top'].set_visible(False)\n",
    "        ax[i, j].spines['right'].set_visible(False)\n",
    "#         ax[i, j].spines['bottom'].set_visible(False)\n",
    "#         ax[i, j].spines['left'].set_visible(False)\n",
    "        \n",
    "for i in range(2):\n",
    "    for j in range(2):\n",
    "        ax[i, j].spines['top'].set_color('lightgrey')\n",
    "        ax[i, j].spines['right'].set_color('lightgrey')\n",
    "        ax[i, j].spines['bottom'].set_color('lightgrey')\n",
    "        ax[i, j].spines['left'].set_color('lightgrey')\n",
    "        \n",
    "\n",
    "\n",
    "# plt.tight_layout()\n",
    "fig.suptitle('Depth Error Standard Deviation for Kirchhoff Migration 35 degree stack:\\nRelationship with Madogram Derived Fractal Roughness Attributes')\n",
    "\n",
    "plt.show()\n",
    "\n",
    "fig_name=location_out_plots + '_Madogram_Depth_error_4x4_Kirchhoff_35deg'  +'.png'\n",
    "fig.savefig(fig_name,facecolor = 'w',bbox_inches=\"tight\", dpi=1000)"
   ]
  },
  {
   "cell_type": "markdown",
   "metadata": {},
   "source": [
    "Regressions"
   ]
  },
  {
   "cell_type": "code",
   "execution_count": 14,
   "metadata": {},
   "outputs": [
    {
     "name": "stdout",
     "output_type": "stream",
     "text": [
      "LinregressResult(slope=2.75064542892524, intercept=3.2627891770704704, rvalue=0.9963026453426231, pvalue=0.00026973016389390315, stderr=0.1369435075164472)\n"
     ]
    }
   ],
   "source": [
    "# Do a regression for semivariongram case\n",
    "res = stats.linregress(df_input['Int_SV'], df_input['Seis_-_Actual_std'])\n",
    "print(res)"
   ]
  },
  {
   "cell_type": "code",
   "execution_count": 15,
   "metadata": {},
   "outputs": [
    {
     "data": {
      "text/plain": [
       "0.9926189611167087"
      ]
     },
     "execution_count": 15,
     "metadata": {},
     "output_type": "execute_result"
    }
   ],
   "source": [
    "res.rvalue ** 2"
   ]
  },
  {
   "cell_type": "code",
   "execution_count": 16,
   "metadata": {},
   "outputs": [
    {
     "data": {
      "text/plain": [
       "(2.75, 3.26)"
      ]
     },
     "execution_count": 16,
     "metadata": {},
     "output_type": "execute_result"
    }
   ],
   "source": [
    "round(res.slope, 2), round(res.intercept, 2)"
   ]
  },
  {
   "cell_type": "code",
   "execution_count": 17,
   "metadata": {},
   "outputs": [
    {
     "name": "stdout",
     "output_type": "stream",
     "text": [
      "LinregressResult(slope=4.424724806993743, intercept=4.672715561417595, rvalue=0.9908077047861794, pvalue=0.0010565013876849268, stderr=0.34878909720937995)\n"
     ]
    }
   ],
   "source": [
    "# Do a regression for semivariongram case\n",
    "res = stats.linregress(df_input['Int_SV_seis'], df_input['Seis_-_Actual_std'])\n",
    "print(res)"
   ]
  },
  {
   "cell_type": "code",
   "execution_count": 18,
   "metadata": {},
   "outputs": [
    {
     "data": {
      "text/plain": [
       "0.9816999078636568"
      ]
     },
     "execution_count": 18,
     "metadata": {},
     "output_type": "execute_result"
    }
   ],
   "source": [
    "res.rvalue ** 2"
   ]
  },
  {
   "cell_type": "code",
   "execution_count": 19,
   "metadata": {},
   "outputs": [
    {
     "data": {
      "text/plain": [
       "(4.42, 4.67)"
      ]
     },
     "execution_count": 19,
     "metadata": {},
     "output_type": "execute_result"
    }
   ],
   "source": [
    "round(res.slope, 2), round(res.intercept, 2)"
   ]
  },
  {
   "cell_type": "code",
   "execution_count": 20,
   "metadata": {},
   "outputs": [
    {
     "name": "stdout",
     "output_type": "stream",
     "text": [
      "LinregressResult(slope=5.60326292199557, intercept=4.62102218960459, rvalue=0.9978183876561145, pvalue=0.0001222807406257126, stderr=0.2140403563363129)\n"
     ]
    }
   ],
   "source": [
    "# Do a regression for semivariongram case\n",
    "res = stats.linregress(df_input['Int_M'], df_input['Seis_-_Actual_std'])\n",
    "print(res)"
   ]
  },
  {
   "cell_type": "code",
   "execution_count": 21,
   "metadata": {},
   "outputs": [
    {
     "data": {
      "text/plain": [
       "0.995641534744648"
      ]
     },
     "execution_count": 21,
     "metadata": {},
     "output_type": "execute_result"
    }
   ],
   "source": [
    "res.rvalue ** 2"
   ]
  },
  {
   "cell_type": "code",
   "execution_count": 22,
   "metadata": {},
   "outputs": [
    {
     "data": {
      "text/plain": [
       "(5.6, 4.62)"
      ]
     },
     "execution_count": 22,
     "metadata": {},
     "output_type": "execute_result"
    }
   ],
   "source": [
    "round(res.slope, 2), round(res.intercept, 2)"
   ]
  },
  {
   "cell_type": "code",
   "execution_count": 23,
   "metadata": {},
   "outputs": [
    {
     "name": "stdout",
     "output_type": "stream",
     "text": [
      "LinregressResult(slope=10.932244431381456, intercept=10.641280458125438, rvalue=0.4866141222912915, pvalue=0.40582734155312494, stderr=11.331439474000955)\n"
     ]
    }
   ],
   "source": [
    "# Do a regression for semivariongram case\n",
    "res = stats.linregress(df_input['Int_M_seis'], df_input['Seis_-_Actual_std'])\n",
    "print(res)"
   ]
  },
  {
   "cell_type": "code",
   "execution_count": 24,
   "metadata": {},
   "outputs": [
    {
     "data": {
      "text/plain": [
       "0.23679330401332396"
      ]
     },
     "execution_count": 24,
     "metadata": {},
     "output_type": "execute_result"
    }
   ],
   "source": [
    "res.rvalue ** 2"
   ]
  },
  {
   "cell_type": "code",
   "execution_count": 25,
   "metadata": {},
   "outputs": [
    {
     "data": {
      "text/plain": [
       "(10.93, 10.64)"
      ]
     },
     "execution_count": 25,
     "metadata": {},
     "output_type": "execute_result"
    }
   ],
   "source": [
    "round(res.slope, 2), round(res.intercept, 2)"
   ]
  },
  {
   "cell_type": "code",
   "execution_count": null,
   "metadata": {},
   "outputs": [],
   "source": []
  }
 ],
 "metadata": {
  "kernelspec": {
   "display_name": "Python 3",
   "language": "python",
   "name": "python3"
  },
  "language_info": {
   "codemirror_mode": {
    "name": "ipython",
    "version": 3
   },
   "file_extension": ".py",
   "mimetype": "text/x-python",
   "name": "python",
   "nbconvert_exporter": "python",
   "pygments_lexer": "ipython3",
   "version": "3.7.6"
  }
 },
 "nbformat": 4,
 "nbformat_minor": 4
}
